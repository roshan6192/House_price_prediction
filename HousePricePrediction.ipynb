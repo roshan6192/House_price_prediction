{
 "cells": [
  {
   "cell_type": "code",
   "execution_count": 1,
   "id": "92fdc58f",
   "metadata": {},
   "outputs": [
    {
     "name": "stdout",
     "output_type": "stream",
     "text": [
      "sagemaker.config INFO - Not applying SDK defaults from location: /etc/xdg/sagemaker/config.yaml\n",
      "sagemaker.config INFO - Not applying SDK defaults from location: /home/ec2-user/.config/sagemaker/config.yaml\n"
     ]
    }
   ],
   "source": [
    "import boto3\n",
    "import sagemaker\n",
    "import pandas as pd\n",
    "from sagemaker import get_execution_role\n",
    "from sagemaker.estimator import Estimator"
   ]
  },
  {
   "cell_type": "code",
   "execution_count": 2,
   "id": "22cfa8b4",
   "metadata": {},
   "outputs": [
    {
     "name": "stdout",
     "output_type": "stream",
     "text": [
      "ap-south-1\n"
     ]
    }
   ],
   "source": [
    "bucket_name = \"roshanhousepricebucket\"\n",
    "my_region = boto3.session.Session().region_name\n",
    "print(my_region)"
   ]
  },
  {
   "cell_type": "code",
   "execution_count": 3,
   "id": "d62b563d",
   "metadata": {},
   "outputs": [
    {
     "name": "stdout",
     "output_type": "stream",
     "text": [
      "S3 bucket created successfully\n"
     ]
    }
   ],
   "source": [
    "s3 = boto3.resource('s3')\n",
    "try:\n",
    "    if my_region == 'ap-south-1':\n",
    "        s3.create_bucket(Bucket=bucket_name, CreateBucketConfiguration={'LocationConstraint': 'ap-south-1'})\n",
    "    print('S3 bucket created successfully')\n",
    "except Exception as e:\n",
    "    print('S3 error: ', e)"
   ]
  },
  {
   "cell_type": "code",
   "execution_count": 4,
   "id": "b22a0461",
   "metadata": {},
   "outputs": [
    {
     "name": "stdout",
     "output_type": "stream",
     "text": [
      "s3://roshanhousepricebucket/xgboost-as-a-built-in-algo/output\n"
     ]
    }
   ],
   "source": [
    "# set an output path where the trained model will be saved\n",
    "prefix = 'xgboost-as-a-built-in-algo'\n",
    "output_path ='s3://{}/{}/output'.format(bucket_name, prefix)\n",
    "print(output_path)"
   ]
  },
  {
   "cell_type": "code",
   "execution_count": 5,
   "id": "f20def90",
   "metadata": {},
   "outputs": [
    {
     "name": "stdout",
     "output_type": "stream",
     "text": [
      "Success: Data loaded into dataframe.\n"
     ]
    }
   ],
   "source": [
    "csv_file = 'BostonHousing.csv'  \n",
    "\n",
    "try:\n",
    "    house_data = pd.read_csv(csv_file)\n",
    "    print('Success: Data loaded into dataframe.')\n",
    "except Exception as e:\n",
    "    print('Data load error: ', e)"
   ]
  },
  {
   "cell_type": "code",
   "execution_count": 6,
   "id": "91d25eda",
   "metadata": {},
   "outputs": [
    {
     "data": {
      "text/html": [
       "<div>\n",
       "<style scoped>\n",
       "    .dataframe tbody tr th:only-of-type {\n",
       "        vertical-align: middle;\n",
       "    }\n",
       "\n",
       "    .dataframe tbody tr th {\n",
       "        vertical-align: top;\n",
       "    }\n",
       "\n",
       "    .dataframe thead th {\n",
       "        text-align: right;\n",
       "    }\n",
       "</style>\n",
       "<table border=\"1\" class=\"dataframe\">\n",
       "  <thead>\n",
       "    <tr style=\"text-align: right;\">\n",
       "      <th></th>\n",
       "      <th>crim</th>\n",
       "      <th>zn</th>\n",
       "      <th>indus</th>\n",
       "      <th>chas</th>\n",
       "      <th>nox</th>\n",
       "      <th>rm</th>\n",
       "      <th>age</th>\n",
       "      <th>dis</th>\n",
       "      <th>rad</th>\n",
       "      <th>tax</th>\n",
       "      <th>ptratio</th>\n",
       "      <th>b</th>\n",
       "      <th>lstat</th>\n",
       "      <th>medv</th>\n",
       "    </tr>\n",
       "  </thead>\n",
       "  <tbody>\n",
       "    <tr>\n",
       "      <th>0</th>\n",
       "      <td>0.00632</td>\n",
       "      <td>18.0</td>\n",
       "      <td>2.31</td>\n",
       "      <td>0</td>\n",
       "      <td>0.538</td>\n",
       "      <td>6.575</td>\n",
       "      <td>65.2</td>\n",
       "      <td>4.0900</td>\n",
       "      <td>1</td>\n",
       "      <td>296</td>\n",
       "      <td>15.3</td>\n",
       "      <td>396.90</td>\n",
       "      <td>4.98</td>\n",
       "      <td>24.0</td>\n",
       "    </tr>\n",
       "    <tr>\n",
       "      <th>1</th>\n",
       "      <td>0.02731</td>\n",
       "      <td>0.0</td>\n",
       "      <td>7.07</td>\n",
       "      <td>0</td>\n",
       "      <td>0.469</td>\n",
       "      <td>6.421</td>\n",
       "      <td>78.9</td>\n",
       "      <td>4.9671</td>\n",
       "      <td>2</td>\n",
       "      <td>242</td>\n",
       "      <td>17.8</td>\n",
       "      <td>396.90</td>\n",
       "      <td>9.14</td>\n",
       "      <td>21.6</td>\n",
       "    </tr>\n",
       "    <tr>\n",
       "      <th>2</th>\n",
       "      <td>0.02729</td>\n",
       "      <td>0.0</td>\n",
       "      <td>7.07</td>\n",
       "      <td>0</td>\n",
       "      <td>0.469</td>\n",
       "      <td>7.185</td>\n",
       "      <td>61.1</td>\n",
       "      <td>4.9671</td>\n",
       "      <td>2</td>\n",
       "      <td>242</td>\n",
       "      <td>17.8</td>\n",
       "      <td>392.83</td>\n",
       "      <td>4.03</td>\n",
       "      <td>34.7</td>\n",
       "    </tr>\n",
       "    <tr>\n",
       "      <th>3</th>\n",
       "      <td>0.03237</td>\n",
       "      <td>0.0</td>\n",
       "      <td>2.18</td>\n",
       "      <td>0</td>\n",
       "      <td>0.458</td>\n",
       "      <td>6.998</td>\n",
       "      <td>45.8</td>\n",
       "      <td>6.0622</td>\n",
       "      <td>3</td>\n",
       "      <td>222</td>\n",
       "      <td>18.7</td>\n",
       "      <td>394.63</td>\n",
       "      <td>2.94</td>\n",
       "      <td>33.4</td>\n",
       "    </tr>\n",
       "    <tr>\n",
       "      <th>4</th>\n",
       "      <td>0.06905</td>\n",
       "      <td>0.0</td>\n",
       "      <td>2.18</td>\n",
       "      <td>0</td>\n",
       "      <td>0.458</td>\n",
       "      <td>7.147</td>\n",
       "      <td>54.2</td>\n",
       "      <td>6.0622</td>\n",
       "      <td>3</td>\n",
       "      <td>222</td>\n",
       "      <td>18.7</td>\n",
       "      <td>396.90</td>\n",
       "      <td>5.33</td>\n",
       "      <td>36.2</td>\n",
       "    </tr>\n",
       "  </tbody>\n",
       "</table>\n",
       "</div>"
      ],
      "text/plain": [
       "      crim    zn  indus  chas    nox     rm   age     dis  rad  tax  ptratio  \\\n",
       "0  0.00632  18.0   2.31     0  0.538  6.575  65.2  4.0900    1  296     15.3   \n",
       "1  0.02731   0.0   7.07     0  0.469  6.421  78.9  4.9671    2  242     17.8   \n",
       "2  0.02729   0.0   7.07     0  0.469  7.185  61.1  4.9671    2  242     17.8   \n",
       "3  0.03237   0.0   2.18     0  0.458  6.998  45.8  6.0622    3  222     18.7   \n",
       "4  0.06905   0.0   2.18     0  0.458  7.147  54.2  6.0622    3  222     18.7   \n",
       "\n",
       "        b  lstat  medv  \n",
       "0  396.90   4.98  24.0  \n",
       "1  396.90   9.14  21.6  \n",
       "2  392.83   4.03  34.7  \n",
       "3  394.63   2.94  33.4  \n",
       "4  396.90   5.33  36.2  "
      ]
     },
     "execution_count": 6,
     "metadata": {},
     "output_type": "execute_result"
    }
   ],
   "source": [
    "house_data.head()"
   ]
  },
  {
   "cell_type": "code",
   "execution_count": 7,
   "id": "9e1ae805",
   "metadata": {},
   "outputs": [],
   "source": [
    "house_data.rename(columns={'medv':'price'}, inplace=True)"
   ]
  },
  {
   "cell_type": "code",
   "execution_count": 8,
   "id": "92c859da",
   "metadata": {},
   "outputs": [
    {
     "data": {
      "text/html": [
       "<div>\n",
       "<style scoped>\n",
       "    .dataframe tbody tr th:only-of-type {\n",
       "        vertical-align: middle;\n",
       "    }\n",
       "\n",
       "    .dataframe tbody tr th {\n",
       "        vertical-align: top;\n",
       "    }\n",
       "\n",
       "    .dataframe thead th {\n",
       "        text-align: right;\n",
       "    }\n",
       "</style>\n",
       "<table border=\"1\" class=\"dataframe\">\n",
       "  <thead>\n",
       "    <tr style=\"text-align: right;\">\n",
       "      <th></th>\n",
       "      <th>crim</th>\n",
       "      <th>zn</th>\n",
       "      <th>indus</th>\n",
       "      <th>chas</th>\n",
       "      <th>nox</th>\n",
       "      <th>rm</th>\n",
       "      <th>age</th>\n",
       "      <th>dis</th>\n",
       "      <th>rad</th>\n",
       "      <th>tax</th>\n",
       "      <th>ptratio</th>\n",
       "      <th>b</th>\n",
       "      <th>lstat</th>\n",
       "      <th>price</th>\n",
       "    </tr>\n",
       "  </thead>\n",
       "  <tbody>\n",
       "    <tr>\n",
       "      <th>0</th>\n",
       "      <td>0.00632</td>\n",
       "      <td>18.0</td>\n",
       "      <td>2.31</td>\n",
       "      <td>0</td>\n",
       "      <td>0.538</td>\n",
       "      <td>6.575</td>\n",
       "      <td>65.2</td>\n",
       "      <td>4.0900</td>\n",
       "      <td>1</td>\n",
       "      <td>296</td>\n",
       "      <td>15.3</td>\n",
       "      <td>396.90</td>\n",
       "      <td>4.98</td>\n",
       "      <td>24.0</td>\n",
       "    </tr>\n",
       "    <tr>\n",
       "      <th>1</th>\n",
       "      <td>0.02731</td>\n",
       "      <td>0.0</td>\n",
       "      <td>7.07</td>\n",
       "      <td>0</td>\n",
       "      <td>0.469</td>\n",
       "      <td>6.421</td>\n",
       "      <td>78.9</td>\n",
       "      <td>4.9671</td>\n",
       "      <td>2</td>\n",
       "      <td>242</td>\n",
       "      <td>17.8</td>\n",
       "      <td>396.90</td>\n",
       "      <td>9.14</td>\n",
       "      <td>21.6</td>\n",
       "    </tr>\n",
       "    <tr>\n",
       "      <th>2</th>\n",
       "      <td>0.02729</td>\n",
       "      <td>0.0</td>\n",
       "      <td>7.07</td>\n",
       "      <td>0</td>\n",
       "      <td>0.469</td>\n",
       "      <td>7.185</td>\n",
       "      <td>61.1</td>\n",
       "      <td>4.9671</td>\n",
       "      <td>2</td>\n",
       "      <td>242</td>\n",
       "      <td>17.8</td>\n",
       "      <td>392.83</td>\n",
       "      <td>4.03</td>\n",
       "      <td>34.7</td>\n",
       "    </tr>\n",
       "    <tr>\n",
       "      <th>3</th>\n",
       "      <td>0.03237</td>\n",
       "      <td>0.0</td>\n",
       "      <td>2.18</td>\n",
       "      <td>0</td>\n",
       "      <td>0.458</td>\n",
       "      <td>6.998</td>\n",
       "      <td>45.8</td>\n",
       "      <td>6.0622</td>\n",
       "      <td>3</td>\n",
       "      <td>222</td>\n",
       "      <td>18.7</td>\n",
       "      <td>394.63</td>\n",
       "      <td>2.94</td>\n",
       "      <td>33.4</td>\n",
       "    </tr>\n",
       "    <tr>\n",
       "      <th>4</th>\n",
       "      <td>0.06905</td>\n",
       "      <td>0.0</td>\n",
       "      <td>2.18</td>\n",
       "      <td>0</td>\n",
       "      <td>0.458</td>\n",
       "      <td>7.147</td>\n",
       "      <td>54.2</td>\n",
       "      <td>6.0622</td>\n",
       "      <td>3</td>\n",
       "      <td>222</td>\n",
       "      <td>18.7</td>\n",
       "      <td>396.90</td>\n",
       "      <td>5.33</td>\n",
       "      <td>36.2</td>\n",
       "    </tr>\n",
       "  </tbody>\n",
       "</table>\n",
       "</div>"
      ],
      "text/plain": [
       "      crim    zn  indus  chas    nox     rm   age     dis  rad  tax  ptratio  \\\n",
       "0  0.00632  18.0   2.31     0  0.538  6.575  65.2  4.0900    1  296     15.3   \n",
       "1  0.02731   0.0   7.07     0  0.469  6.421  78.9  4.9671    2  242     17.8   \n",
       "2  0.02729   0.0   7.07     0  0.469  7.185  61.1  4.9671    2  242     17.8   \n",
       "3  0.03237   0.0   2.18     0  0.458  6.998  45.8  6.0622    3  222     18.7   \n",
       "4  0.06905   0.0   2.18     0  0.458  7.147  54.2  6.0622    3  222     18.7   \n",
       "\n",
       "        b  lstat  price  \n",
       "0  396.90   4.98   24.0  \n",
       "1  396.90   9.14   21.6  \n",
       "2  392.83   4.03   34.7  \n",
       "3  394.63   2.94   33.4  \n",
       "4  396.90   5.33   36.2  "
      ]
     },
     "execution_count": 8,
     "metadata": {},
     "output_type": "execute_result"
    }
   ],
   "source": [
    "house_data.head()"
   ]
  },
  {
   "cell_type": "code",
   "execution_count": 9,
   "id": "52c9058d",
   "metadata": {},
   "outputs": [
    {
     "data": {
      "text/plain": [
       "(506, 14)"
      ]
     },
     "execution_count": 9,
     "metadata": {},
     "output_type": "execute_result"
    }
   ],
   "source": [
    "house_data.shape"
   ]
  },
  {
   "cell_type": "code",
   "execution_count": 11,
   "id": "f32c5381",
   "metadata": {},
   "outputs": [
    {
     "name": "stdout",
     "output_type": "stream",
     "text": [
      "<class 'pandas.core.frame.DataFrame'>\n",
      "RangeIndex: 506 entries, 0 to 505\n",
      "Data columns (total 14 columns):\n",
      " #   Column   Non-Null Count  Dtype  \n",
      "---  ------   --------------  -----  \n",
      " 0   crim     506 non-null    float64\n",
      " 1   zn       506 non-null    float64\n",
      " 2   indus    506 non-null    float64\n",
      " 3   chas     506 non-null    int64  \n",
      " 4   nox      506 non-null    float64\n",
      " 5   rm       506 non-null    float64\n",
      " 6   age      506 non-null    float64\n",
      " 7   dis      506 non-null    float64\n",
      " 8   rad      506 non-null    int64  \n",
      " 9   tax      506 non-null    int64  \n",
      " 10  ptratio  506 non-null    float64\n",
      " 11  b        506 non-null    float64\n",
      " 12  lstat    506 non-null    float64\n",
      " 13  price    506 non-null    float64\n",
      "dtypes: float64(11), int64(3)\n",
      "memory usage: 55.5 KB\n"
     ]
    }
   ],
   "source": [
    "house_data.info()"
   ]
  },
  {
   "cell_type": "code",
   "execution_count": 13,
   "id": "31ba306f",
   "metadata": {},
   "outputs": [
    {
     "data": {
      "text/html": [
       "<div>\n",
       "<style scoped>\n",
       "    .dataframe tbody tr th:only-of-type {\n",
       "        vertical-align: middle;\n",
       "    }\n",
       "\n",
       "    .dataframe tbody tr th {\n",
       "        vertical-align: top;\n",
       "    }\n",
       "\n",
       "    .dataframe thead th {\n",
       "        text-align: right;\n",
       "    }\n",
       "</style>\n",
       "<table border=\"1\" class=\"dataframe\">\n",
       "  <thead>\n",
       "    <tr style=\"text-align: right;\">\n",
       "      <th></th>\n",
       "      <th>crim</th>\n",
       "      <th>zn</th>\n",
       "      <th>indus</th>\n",
       "      <th>chas</th>\n",
       "      <th>nox</th>\n",
       "      <th>rm</th>\n",
       "      <th>age</th>\n",
       "      <th>dis</th>\n",
       "      <th>rad</th>\n",
       "      <th>tax</th>\n",
       "      <th>ptratio</th>\n",
       "      <th>b</th>\n",
       "      <th>lstat</th>\n",
       "      <th>price</th>\n",
       "    </tr>\n",
       "  </thead>\n",
       "  <tbody>\n",
       "    <tr>\n",
       "      <th>count</th>\n",
       "      <td>506.000000</td>\n",
       "      <td>506.000000</td>\n",
       "      <td>506.000000</td>\n",
       "      <td>506.000000</td>\n",
       "      <td>506.000000</td>\n",
       "      <td>506.000000</td>\n",
       "      <td>506.000000</td>\n",
       "      <td>506.000000</td>\n",
       "      <td>506.000000</td>\n",
       "      <td>506.000000</td>\n",
       "      <td>506.000000</td>\n",
       "      <td>506.000000</td>\n",
       "      <td>506.000000</td>\n",
       "      <td>506.000000</td>\n",
       "    </tr>\n",
       "    <tr>\n",
       "      <th>mean</th>\n",
       "      <td>3.613524</td>\n",
       "      <td>11.363636</td>\n",
       "      <td>11.136779</td>\n",
       "      <td>0.069170</td>\n",
       "      <td>0.554695</td>\n",
       "      <td>6.284634</td>\n",
       "      <td>68.574901</td>\n",
       "      <td>3.795043</td>\n",
       "      <td>9.549407</td>\n",
       "      <td>408.237154</td>\n",
       "      <td>18.455534</td>\n",
       "      <td>356.674032</td>\n",
       "      <td>12.653063</td>\n",
       "      <td>22.532806</td>\n",
       "    </tr>\n",
       "    <tr>\n",
       "      <th>std</th>\n",
       "      <td>8.601545</td>\n",
       "      <td>23.322453</td>\n",
       "      <td>6.860353</td>\n",
       "      <td>0.253994</td>\n",
       "      <td>0.115878</td>\n",
       "      <td>0.702617</td>\n",
       "      <td>28.148861</td>\n",
       "      <td>2.105710</td>\n",
       "      <td>8.707259</td>\n",
       "      <td>168.537116</td>\n",
       "      <td>2.164946</td>\n",
       "      <td>91.294864</td>\n",
       "      <td>7.141062</td>\n",
       "      <td>9.197104</td>\n",
       "    </tr>\n",
       "    <tr>\n",
       "      <th>min</th>\n",
       "      <td>0.006320</td>\n",
       "      <td>0.000000</td>\n",
       "      <td>0.460000</td>\n",
       "      <td>0.000000</td>\n",
       "      <td>0.385000</td>\n",
       "      <td>3.561000</td>\n",
       "      <td>2.900000</td>\n",
       "      <td>1.129600</td>\n",
       "      <td>1.000000</td>\n",
       "      <td>187.000000</td>\n",
       "      <td>12.600000</td>\n",
       "      <td>0.320000</td>\n",
       "      <td>1.730000</td>\n",
       "      <td>5.000000</td>\n",
       "    </tr>\n",
       "    <tr>\n",
       "      <th>25%</th>\n",
       "      <td>0.082045</td>\n",
       "      <td>0.000000</td>\n",
       "      <td>5.190000</td>\n",
       "      <td>0.000000</td>\n",
       "      <td>0.449000</td>\n",
       "      <td>5.885500</td>\n",
       "      <td>45.025000</td>\n",
       "      <td>2.100175</td>\n",
       "      <td>4.000000</td>\n",
       "      <td>279.000000</td>\n",
       "      <td>17.400000</td>\n",
       "      <td>375.377500</td>\n",
       "      <td>6.950000</td>\n",
       "      <td>17.025000</td>\n",
       "    </tr>\n",
       "    <tr>\n",
       "      <th>50%</th>\n",
       "      <td>0.256510</td>\n",
       "      <td>0.000000</td>\n",
       "      <td>9.690000</td>\n",
       "      <td>0.000000</td>\n",
       "      <td>0.538000</td>\n",
       "      <td>6.208500</td>\n",
       "      <td>77.500000</td>\n",
       "      <td>3.207450</td>\n",
       "      <td>5.000000</td>\n",
       "      <td>330.000000</td>\n",
       "      <td>19.050000</td>\n",
       "      <td>391.440000</td>\n",
       "      <td>11.360000</td>\n",
       "      <td>21.200000</td>\n",
       "    </tr>\n",
       "    <tr>\n",
       "      <th>75%</th>\n",
       "      <td>3.677083</td>\n",
       "      <td>12.500000</td>\n",
       "      <td>18.100000</td>\n",
       "      <td>0.000000</td>\n",
       "      <td>0.624000</td>\n",
       "      <td>6.623500</td>\n",
       "      <td>94.075000</td>\n",
       "      <td>5.188425</td>\n",
       "      <td>24.000000</td>\n",
       "      <td>666.000000</td>\n",
       "      <td>20.200000</td>\n",
       "      <td>396.225000</td>\n",
       "      <td>16.955000</td>\n",
       "      <td>25.000000</td>\n",
       "    </tr>\n",
       "    <tr>\n",
       "      <th>max</th>\n",
       "      <td>88.976200</td>\n",
       "      <td>100.000000</td>\n",
       "      <td>27.740000</td>\n",
       "      <td>1.000000</td>\n",
       "      <td>0.871000</td>\n",
       "      <td>8.780000</td>\n",
       "      <td>100.000000</td>\n",
       "      <td>12.126500</td>\n",
       "      <td>24.000000</td>\n",
       "      <td>711.000000</td>\n",
       "      <td>22.000000</td>\n",
       "      <td>396.900000</td>\n",
       "      <td>37.970000</td>\n",
       "      <td>50.000000</td>\n",
       "    </tr>\n",
       "  </tbody>\n",
       "</table>\n",
       "</div>"
      ],
      "text/plain": [
       "             crim          zn       indus        chas         nox          rm  \\\n",
       "count  506.000000  506.000000  506.000000  506.000000  506.000000  506.000000   \n",
       "mean     3.613524   11.363636   11.136779    0.069170    0.554695    6.284634   \n",
       "std      8.601545   23.322453    6.860353    0.253994    0.115878    0.702617   \n",
       "min      0.006320    0.000000    0.460000    0.000000    0.385000    3.561000   \n",
       "25%      0.082045    0.000000    5.190000    0.000000    0.449000    5.885500   \n",
       "50%      0.256510    0.000000    9.690000    0.000000    0.538000    6.208500   \n",
       "75%      3.677083   12.500000   18.100000    0.000000    0.624000    6.623500   \n",
       "max     88.976200  100.000000   27.740000    1.000000    0.871000    8.780000   \n",
       "\n",
       "              age         dis         rad         tax     ptratio           b  \\\n",
       "count  506.000000  506.000000  506.000000  506.000000  506.000000  506.000000   \n",
       "mean    68.574901    3.795043    9.549407  408.237154   18.455534  356.674032   \n",
       "std     28.148861    2.105710    8.707259  168.537116    2.164946   91.294864   \n",
       "min      2.900000    1.129600    1.000000  187.000000   12.600000    0.320000   \n",
       "25%     45.025000    2.100175    4.000000  279.000000   17.400000  375.377500   \n",
       "50%     77.500000    3.207450    5.000000  330.000000   19.050000  391.440000   \n",
       "75%     94.075000    5.188425   24.000000  666.000000   20.200000  396.225000   \n",
       "max    100.000000   12.126500   24.000000  711.000000   22.000000  396.900000   \n",
       "\n",
       "            lstat       price  \n",
       "count  506.000000  506.000000  \n",
       "mean    12.653063   22.532806  \n",
       "std      7.141062    9.197104  \n",
       "min      1.730000    5.000000  \n",
       "25%      6.950000   17.025000  \n",
       "50%     11.360000   21.200000  \n",
       "75%     16.955000   25.000000  \n",
       "max     37.970000   50.000000  "
      ]
     },
     "execution_count": 13,
     "metadata": {},
     "output_type": "execute_result"
    }
   ],
   "source": [
    "house_data.describe()"
   ]
  },
  {
   "cell_type": "code",
   "execution_count": 14,
   "id": "00ff9e1c",
   "metadata": {},
   "outputs": [
    {
     "data": {
      "text/plain": [
       "crim       0\n",
       "zn         0\n",
       "indus      0\n",
       "chas       0\n",
       "nox        0\n",
       "rm         0\n",
       "age        0\n",
       "dis        0\n",
       "rad        0\n",
       "tax        0\n",
       "ptratio    0\n",
       "b          0\n",
       "lstat      0\n",
       "price      0\n",
       "dtype: int64"
      ]
     },
     "execution_count": 14,
     "metadata": {},
     "output_type": "execute_result"
    }
   ],
   "source": [
    "house_data.isnull().sum()"
   ]
  },
  {
   "cell_type": "code",
   "execution_count": 19,
   "id": "c50d20bd",
   "metadata": {},
   "outputs": [],
   "source": [
    "#Correlation between the features in dataset\n",
    "import matplotlib.pyplot as plt\n",
    "import seaborn as sns\n",
    "\n",
    "correlation = house_data.corr()"
   ]
  },
  {
   "cell_type": "code",
   "execution_count": 20,
   "id": "b75df046",
   "metadata": {},
   "outputs": [
    {
     "data": {
      "text/plain": [
       "<Axes: >"
      ]
     },
     "execution_count": 20,
     "metadata": {},
     "output_type": "execute_result"
    },
    {
     "data": {
      "image/png": "[encoded data removed]",
      "text/plain": [
       "<Figure size 1000x1000 with 2 Axes>"
      ]
     },
     "metadata": {},
     "output_type": "display_data"
    }
   ],
   "source": [
    "#heatmap for understanding correlation\n",
    "plt.figure(figsize=(10,10))\n",
    "sns.heatmap(correlation, cbar=True, square=True, fmt='.1f', annot=True, annot_kws={'size':8}, cmap='Blues')"
   ]
  },
  {
   "cell_type": "code",
   "execution_count": 21,
   "id": "1b1b65d9",
   "metadata": {},
   "outputs": [
    {
     "name": "stdout",
     "output_type": "stream",
     "text": [
      "(354, 14) (152, 14)\n"
     ]
    },
    {
     "name": "stderr",
     "output_type": "stream",
     "text": [
      "/home/ec2-user/anaconda3/envs/python3/lib/python3.10/site-packages/numpy/core/fromnumeric.py:57: FutureWarning: 'DataFrame.swapaxes' is deprecated and will be removed in a future version. Please use 'DataFrame.transpose' instead.\n",
      "  return bound(*args, **kwds)\n"
     ]
    }
   ],
   "source": [
    "### Train Test split\n",
    "\n",
    "import numpy as np\n",
    "train_data, test_data = np.split(house_data.sample(frac=1, random_state=1729), [int(0.7 * len(house_data))])\n",
    "print(train_data.shape, test_data.shape)"
   ]
  },
  {
   "cell_type": "code",
   "execution_count": 24,
   "id": "5db7a77e",
   "metadata": {},
   "outputs": [],
   "source": [
    "### Saving Train And Test Into Buckets\n",
    "## We start with Train Data\n",
    "import os\n",
    "from sagemaker.inputs import TrainingInput\n",
    "\n",
    "pd.concat([train_data['price'], train_data.drop(['price'], \n",
    "                                                axis=1)], \n",
    "                                                axis=1).to_csv('train.csv', index=False, header=False)\n",
    "boto3.Session().resource('s3').Bucket(bucket_name).Object(os.path.join(prefix, 'train/train.csv')).upload_file('train.csv')\n",
    "s3_input_train = TrainingInput(s3_data='s3://{}/{}/train'.format(bucket_name, prefix), content_type='csv')"
   ]
  },
  {
   "cell_type": "code",
   "execution_count": 25,
   "id": "95011dd4",
   "metadata": {},
   "outputs": [],
   "source": [
    "# Test Data Into Buckets\n",
    "pd.concat([test_data['price'], test_data.drop(['price'], axis=1)], axis=1).to_csv('test.csv', index=False, header=False)\n",
    "boto3.Session().resource('s3').Bucket(bucket_name).Object(os.path.join(prefix, 'test/test.csv')).upload_file('test.csv')\n",
    "s3_input_test = TrainingInput(s3_data='s3://{}/{}/test'.format(bucket_name, prefix), content_type='csv')"
   ]
  },
  {
   "cell_type": "code",
   "execution_count": 36,
   "id": "4f396c27",
   "metadata": {},
   "outputs": [
    {
     "name": "stderr",
     "output_type": "stream",
     "text": [
      "INFO:sagemaker.image_uris:Defaulting to only available Python version: py3\n",
      "INFO:sagemaker.image_uris:Defaulting to only supported image scope: cpu.\n",
      "WARNING:sagemaker.deprecations:train_instance_count has been renamed in sagemaker>=2.\n",
      "See: https://sagemaker.readthedocs.io/en/stable/v2.html for details.\n",
      "WARNING:sagemaker.deprecations:train_instance_type has been renamed in sagemaker>=2.\n",
      "See: https://sagemaker.readthedocs.io/en/stable/v2.html for details.\n",
      "WARNING:sagemaker.deprecations:train_max_run has been renamed in sagemaker>=2.\n",
      "See: https://sagemaker.readthedocs.io/en/stable/v2.html for details.\n",
      "WARNING:sagemaker.deprecations:train_use_spot_instances has been renamed in sagemaker>=2.\n",
      "See: https://sagemaker.readthedocs.io/en/stable/v2.html for details.\n",
      "WARNING:sagemaker.deprecations:train_max_wait has been renamed in sagemaker>=2.\n",
      "See: https://sagemaker.readthedocs.io/en/stable/v2.html for details.\n",
      "WARNING:sagemaker.deprecations:train_volume_size has been renamed in sagemaker>=2.\n",
      "See: https://sagemaker.readthedocs.io/en/stable/v2.html for details.\n"
     ]
    }
   ],
   "source": [
    "#MODEL TRAINING\n",
    "\n",
    "# XGBoost\n",
    "from sagemaker import image_uris\n",
    "\n",
    "container = image_uris.retrieve('xgboost', boto3.Session().region_name, version='1.0-1')\n",
    "\n",
    "role = get_execution_role()\n",
    "\n",
    "estimator = sagemaker.estimator.Estimator(image_uri=container, \n",
    "                                          hyperparameters=hyperparameters,\n",
    "                                          role=sagemaker.get_execution_role(),\n",
    "                                          train_instance_count=1, \n",
    "                                          train_instance_type='ml.m5.2xlarge', \n",
    "                                          train_volume_size=5, # 5 GB \n",
    "                                          output_path=output_path,\n",
    "                                          train_use_spot_instances=True,\n",
    "                                          train_max_run=300,\n",
    "                                          train_max_wait=600) "
   ]
  },
  {
   "cell_type": "code",
   "execution_count": 37,
   "id": "105b56e1",
   "metadata": {},
   "outputs": [],
   "source": [
    "# Set hyperparameters for the model\n",
    "# initialize hyperparameters\n",
    "hyperparameters = {\n",
    "        \"max_depth\":\"5\",\n",
    "        \"eta\":\"0.2\",\n",
    "        \"gamma\":\"4\",\n",
    "        \"min_child_weight\":\"6\",\n",
    "        \"subsample\":\"0.7\",\n",
    "        \"objective\":\"binary:logistic\",\n",
    "        \"num_round\":50\n",
    "        }"
   ]
  },
  {
   "cell_type": "code",
   "execution_count": 38,
   "id": "978de82a",
   "metadata": {},
   "outputs": [
    {
     "name": "stderr",
     "output_type": "stream",
     "text": [
      "INFO:sagemaker:Creating training-job with name: sagemaker-xgboost-2024-08-20-05-19-26-740\n"
     ]
    },
    {
     "name": "stdout",
     "output_type": "stream",
     "text": [
      "2024-08-20 05:19:26 Starting - Starting the training job...\n",
      "2024-08-20 05:19:43 Starting - Preparing the instances for training...\n",
      "2024-08-20 05:20:25 Downloading - Downloading the training image...\n",
      "2024-08-20 05:20:56 Training - Training image download completed. Training in progress....\n",
      "2024-08-20 05:21:21 Uploading - Uploading generated training model\u001b[34m[2024-08-20 05:21:13.397 ip-10-0-91-58.ap-south-1.compute.internal:7 INFO utils.py:27] RULE_JOB_STOP_SIGNAL_FILENAME: None\u001b[0m\n",
      "\u001b[34mINFO:sagemaker-containers:Imported framework sagemaker_xgboost_container.training\u001b[0m\n",
      "\u001b[34mINFO:sagemaker-containers:Failed to parse hyperparameter objective value reg:squarederror to Json.\u001b[0m\n",
      "\u001b[34mReturning the value itself\u001b[0m\n",
      "\u001b[34mINFO:sagemaker-containers:No GPUs detected (normal if no gpus installed)\u001b[0m\n",
      "\u001b[34mINFO:sagemaker_xgboost_container.training:Running XGBoost Sagemaker in algorithm mode\u001b[0m\n",
      "\u001b[34mINFO:root:Determined delimiter of CSV input is ','\u001b[0m\n",
      "\u001b[34mINFO:root:Determined delimiter of CSV input is ','\u001b[0m\n",
      "\u001b[34mINFO:root:Determined delimiter of CSV input is ','\u001b[0m\n",
      "\u001b[34mINFO:root:Determined delimiter of CSV input is ','\u001b[0m\n",
      "\u001b[34mINFO:root:Single node training.\u001b[0m\n",
      "\u001b[34m[05:21:13] 354x13 matrix with 4602 entries loaded from /opt/ml/input/data/train?format=csv&label_column=0&delimiter=,\u001b[0m\n",
      "\u001b[34m[05:21:13] 152x13 matrix with 1976 entries loaded from /opt/ml/input/data/validation?format=csv&label_column=0&delimiter=,\u001b[0m\n",
      "\u001b[34m[2024-08-20 05:21:13.472 ip-10-0-91-58.ap-south-1.compute.internal:7 INFO json_config.py:91] Creating hook from json_config at /opt/ml/input/config/debughookconfig.json.\u001b[0m\n",
      "\u001b[34m[2024-08-20 05:21:13.473 ip-10-0-91-58.ap-south-1.compute.internal:7 INFO hook.py:201] tensorboard_dir has not been set for the hook. SMDebug will not be exporting tensorboard summaries.\u001b[0m\n",
      "\u001b[34m[2024-08-20 05:21:13.473 ip-10-0-91-58.ap-south-1.compute.internal:7 INFO profiler_config_parser.py:102] User has disabled profiler.\u001b[0m\n",
      "\u001b[34m[2024-08-20 05:21:13.474 ip-10-0-91-58.ap-south-1.compute.internal:7 INFO hook.py:255] Saving to /opt/ml/output/tensors\u001b[0m\n",
      "\u001b[34m[2024-08-20 05:21:13.474 ip-10-0-91-58.ap-south-1.compute.internal:7 INFO state_store.py:77] The checkpoint config file /opt/ml/input/config/checkpointconfig.json does not exist.\u001b[0m\n",
      "\u001b[34mINFO:root:Debug hook created from config\u001b[0m\n",
      "\u001b[34mINFO:root:Train matrix has 354 rows\u001b[0m\n",
      "\u001b[34mINFO:root:Validation matrix has 152 rows\u001b[0m\n",
      "\u001b[34m[05:21:13] WARNING: /workspace/src/learner.cc:328: \u001b[0m\n",
      "\u001b[34mParameters: { num_round } might not be used.\n",
      "  This may not be accurate due to some parameters are only used in language bindings but\n",
      "  passed down to XGBoost core.  Or some parameters are not used but slip through this\n",
      "  verification. Please open an issue if you find above cases.\u001b[0m\n",
      "\u001b[34m[0]#011train-rmse:19.40422#011validation-rmse:19.22004\u001b[0m\n",
      "\u001b[34m[2024-08-20 05:21:13.483 ip-10-0-91-58.ap-south-1.compute.internal:7 INFO hook.py:423] Monitoring the collections: metrics\u001b[0m\n",
      "\u001b[34m[2024-08-20 05:21:13.485 ip-10-0-91-58.ap-south-1.compute.internal:7 INFO hook.py:486] Hook is writing from the hook with pid: 7\u001b[0m\n",
      "\u001b[34m[1]#011train-rmse:15.75590#011validation-rmse:15.70444\u001b[0m\n",
      "\u001b[34m[2]#011train-rmse:12.82669#011validation-rmse:12.86331\u001b[0m\n",
      "\u001b[34m[3]#011train-rmse:10.47791#011validation-rmse:10.62819\u001b[0m\n",
      "\u001b[34m[4]#011train-rmse:8.60198#011validation-rmse:8.84275\u001b[0m\n",
      "\u001b[34m[5]#011train-rmse:7.09727#011validation-rmse:7.46640\u001b[0m\n",
      "\u001b[34m[6]#011train-rmse:5.86766#011validation-rmse:6.48452\u001b[0m\n",
      "\u001b[34m[7]#011train-rmse:4.88984#011validation-rmse:5.68650\u001b[0m\n",
      "\u001b[34m[8]#011train-rmse:4.09342#011validation-rmse:5.11508\u001b[0m\n",
      "\u001b[34m[9]#011train-rmse:3.46707#011validation-rmse:4.69495\u001b[0m\n",
      "\u001b[34m[10]#011train-rmse:2.96013#011validation-rmse:4.41224\u001b[0m\n",
      "\u001b[34m[11]#011train-rmse:2.55624#011validation-rmse:4.19308\u001b[0m\n",
      "\u001b[34m[12]#011train-rmse:2.23663#011validation-rmse:4.07574\u001b[0m\n",
      "\u001b[34m[13]#011train-rmse:1.98069#011validation-rmse:3.95731\u001b[0m\n",
      "\u001b[34m[14]#011train-rmse:1.78713#011validation-rmse:3.90132\u001b[0m\n",
      "\u001b[34m[15]#011train-rmse:1.62940#011validation-rmse:3.86032\u001b[0m\n",
      "\u001b[34m[16]#011train-rmse:1.50076#011validation-rmse:3.82342\u001b[0m\n",
      "\u001b[34m[17]#011train-rmse:1.40569#011validation-rmse:3.79513\u001b[0m\n",
      "\u001b[34m[18]#011train-rmse:1.33265#011validation-rmse:3.77676\u001b[0m\n",
      "\u001b[34m[19]#011train-rmse:1.27665#011validation-rmse:3.76402\u001b[0m\n",
      "\u001b[34m[20]#011train-rmse:1.21122#011validation-rmse:3.75167\u001b[0m\n",
      "\u001b[34m[21]#011train-rmse:1.16195#011validation-rmse:3.72839\u001b[0m\n",
      "\u001b[34m[22]#011train-rmse:1.11998#011validation-rmse:3.72260\u001b[0m\n",
      "\u001b[34m[23]#011train-rmse:1.06118#011validation-rmse:3.69754\u001b[0m\n",
      "\u001b[34m[24]#011train-rmse:1.02182#011validation-rmse:3.69060\u001b[0m\n",
      "\u001b[34m[25]#011train-rmse:0.97965#011validation-rmse:3.67136\u001b[0m\n",
      "\u001b[34m[26]#011train-rmse:0.95226#011validation-rmse:3.65631\u001b[0m\n",
      "\u001b[34m[27]#011train-rmse:0.92416#011validation-rmse:3.64892\u001b[0m\n",
      "\u001b[34m[28]#011train-rmse:0.89226#011validation-rmse:3.63841\u001b[0m\n",
      "\u001b[34m[29]#011train-rmse:0.87668#011validation-rmse:3.63277\u001b[0m\n",
      "\u001b[34m[30]#011train-rmse:0.86507#011validation-rmse:3.63319\u001b[0m\n",
      "\u001b[34m[31]#011train-rmse:0.84370#011validation-rmse:3.62997\u001b[0m\n",
      "\u001b[34m[32]#011train-rmse:0.81257#011validation-rmse:3.62630\u001b[0m\n",
      "\u001b[34m[33]#011train-rmse:0.79435#011validation-rmse:3.61789\u001b[0m\n",
      "\u001b[34m[34]#011train-rmse:0.77445#011validation-rmse:3.61273\u001b[0m\n",
      "\u001b[34m[35]#011train-rmse:0.74408#011validation-rmse:3.60730\u001b[0m\n",
      "\u001b[34m[36]#011train-rmse:0.72224#011validation-rmse:3.59922\u001b[0m\n",
      "\u001b[34m[37]#011train-rmse:0.69937#011validation-rmse:3.59674\u001b[0m\n",
      "\u001b[34m[38]#011train-rmse:0.68579#011validation-rmse:3.60127\u001b[0m\n",
      "\u001b[34m[39]#011train-rmse:0.67143#011validation-rmse:3.59943\u001b[0m\n",
      "\u001b[34m[40]#011train-rmse:0.65331#011validation-rmse:3.59782\u001b[0m\n",
      "\u001b[34m[41]#011train-rmse:0.62727#011validation-rmse:3.60965\u001b[0m\n",
      "\u001b[34m[42]#011train-rmse:0.60238#011validation-rmse:3.60900\u001b[0m\n",
      "\u001b[34m[43]#011train-rmse:0.59511#011validation-rmse:3.61443\u001b[0m\n",
      "\u001b[34m[44]#011train-rmse:0.58903#011validation-rmse:3.61370\u001b[0m\n",
      "\u001b[34m[45]#011train-rmse:0.58201#011validation-rmse:3.62147\u001b[0m\n",
      "\u001b[34m[46]#011train-rmse:0.57205#011validation-rmse:3.61948\u001b[0m\n",
      "\u001b[34m[47]#011train-rmse:0.56250#011validation-rmse:3.61363\u001b[0m\n",
      "\u001b[34m[48]#011train-rmse:0.54476#011validation-rmse:3.61359\u001b[0m\n",
      "\u001b[34m[49]#011train-rmse:0.52773#011validation-rmse:3.61282\u001b[0m\n",
      "\u001b[34m[50]#011train-rmse:0.52108#011validation-rmse:3.61216\u001b[0m\n",
      "\u001b[34m[51]#011train-rmse:0.50227#011validation-rmse:3.61009\u001b[0m\n",
      "\u001b[34m[52]#011train-rmse:0.49627#011validation-rmse:3.61089\u001b[0m\n",
      "\u001b[34m[53]#011train-rmse:0.49113#011validation-rmse:3.60938\u001b[0m\n",
      "\u001b[34m[54]#011train-rmse:0.47773#011validation-rmse:3.60663\u001b[0m\n",
      "\u001b[34m[55]#011train-rmse:0.46951#011validation-rmse:3.60032\u001b[0m\n",
      "\u001b[34m[56]#011train-rmse:0.45090#011validation-rmse:3.60391\u001b[0m\n",
      "\u001b[34m[57]#011train-rmse:0.43453#011validation-rmse:3.60229\u001b[0m\n",
      "\u001b[34m[58]#011train-rmse:0.42782#011validation-rmse:3.60087\u001b[0m\n",
      "\u001b[34m[59]#011train-rmse:0.42496#011validation-rmse:3.60095\u001b[0m\n",
      "\u001b[34m[60]#011train-rmse:0.41662#011validation-rmse:3.59959\u001b[0m\n",
      "\u001b[34m[61]#011train-rmse:0.40312#011validation-rmse:3.60156\u001b[0m\n",
      "\u001b[34m[62]#011train-rmse:0.39713#011validation-rmse:3.60442\u001b[0m\n",
      "\u001b[34m[63]#011train-rmse:0.38456#011validation-rmse:3.60195\u001b[0m\n",
      "\u001b[34m[64]#011train-rmse:0.38117#011validation-rmse:3.60208\u001b[0m\n",
      "\u001b[34m[65]#011train-rmse:0.36884#011validation-rmse:3.60019\u001b[0m\n",
      "\u001b[34m[66]#011train-rmse:0.36465#011validation-rmse:3.60155\u001b[0m\n",
      "\u001b[34m[67]#011train-rmse:0.35408#011validation-rmse:3.60049\u001b[0m\n",
      "\u001b[34m[68]#011train-rmse:0.34431#011validation-rmse:3.60004\u001b[0m\n",
      "\u001b[34m[69]#011train-rmse:0.33792#011validation-rmse:3.60197\u001b[0m\n",
      "\u001b[34m[70]#011train-rmse:0.33484#011validation-rmse:3.60259\u001b[0m\n",
      "\u001b[34m[71]#011train-rmse:0.32143#011validation-rmse:3.60562\u001b[0m\n",
      "\u001b[34m[72]#011train-rmse:0.31103#011validation-rmse:3.60460\u001b[0m\n",
      "\u001b[34m[73]#011train-rmse:0.30457#011validation-rmse:3.60493\u001b[0m\n",
      "\u001b[34m[74]#011train-rmse:0.29202#011validation-rmse:3.60195\u001b[0m\n",
      "\u001b[34m[75]#011train-rmse:0.28546#011validation-rmse:3.60212\u001b[0m\n",
      "\u001b[34m[76]#011train-rmse:0.28218#011validation-rmse:3.60288\u001b[0m\n",
      "\u001b[34m[77]#011train-rmse:0.27786#011validation-rmse:3.60151\u001b[0m\n",
      "\u001b[34m[78]#011train-rmse:0.27212#011validation-rmse:3.60120\u001b[0m\n",
      "\u001b[34m[79]#011train-rmse:0.26760#011validation-rmse:3.60072\u001b[0m\n",
      "\u001b[34m[80]#011train-rmse:0.26050#011validation-rmse:3.60041\u001b[0m\n",
      "\u001b[34m[81]#011train-rmse:0.25595#011validation-rmse:3.59827\u001b[0m\n",
      "\u001b[34m[82]#011train-rmse:0.24795#011validation-rmse:3.60041\u001b[0m\n",
      "\u001b[34m[83]#011train-rmse:0.24594#011validation-rmse:3.60092\u001b[0m\n",
      "\u001b[34m[84]#011train-rmse:0.23636#011validation-rmse:3.60001\u001b[0m\n",
      "\u001b[34m[85]#011train-rmse:0.23108#011validation-rmse:3.59823\u001b[0m\n",
      "\u001b[34m[86]#011train-rmse:0.22964#011validation-rmse:3.59919\u001b[0m\n",
      "\u001b[34m[87]#011train-rmse:0.22362#011validation-rmse:3.60112\u001b[0m\n",
      "\u001b[34m[88]#011train-rmse:0.22200#011validation-rmse:3.60257\u001b[0m\n",
      "\u001b[34m[89]#011train-rmse:0.21503#011validation-rmse:3.60058\u001b[0m\n",
      "\u001b[34m[90]#011train-rmse:0.20810#011validation-rmse:3.59968\u001b[0m\n",
      "\u001b[34m[91]#011train-rmse:0.20579#011validation-rmse:3.59952\u001b[0m\n",
      "\u001b[34m[92]#011train-rmse:0.19869#011validation-rmse:3.60054\u001b[0m\n",
      "\u001b[34m[93]#011train-rmse:0.19406#011validation-rmse:3.59915\u001b[0m\n",
      "\u001b[34m[94]#011train-rmse:0.19175#011validation-rmse:3.60029\u001b[0m\n",
      "\u001b[34m[95]#011train-rmse:0.18996#011validation-rmse:3.59916\u001b[0m\n",
      "\u001b[34m[96]#011train-rmse:0.18457#011validation-rmse:3.59978\u001b[0m\n",
      "\u001b[34m[97]#011train-rmse:0.18306#011validation-rmse:3.60009\u001b[0m\n",
      "\u001b[34m[98]#011train-rmse:0.17528#011validation-rmse:3.60045\u001b[0m\n",
      "\u001b[34m[99]#011train-rmse:0.17001#011validation-rmse:3.60092\u001b[0m\n",
      "\n",
      "2024-08-20 05:21:29 Completed - Training job completed\n",
      "Training seconds: 84\n",
      "Billable seconds: 27\n",
      "Managed Spot Training savings: 67.9%\n"
     ]
    }
   ],
   "source": [
    "# Train the model\n",
    "estimator.fit({'train': s3_input_train,'validation': s3_input_test})"
   ]
  },
  {
   "cell_type": "code",
   "execution_count": 39,
   "id": "482ee991",
   "metadata": {},
   "outputs": [
    {
     "name": "stderr",
     "output_type": "stream",
     "text": [
      "INFO:sagemaker:Creating model with name: sagemaker-xgboost-2024-08-20-05-22-08-393\n",
      "INFO:sagemaker:Creating endpoint-config with name sagemaker-xgboost-2024-08-20-05-22-08-393\n",
      "INFO:sagemaker:Creating endpoint with name sagemaker-xgboost-2024-08-20-05-22-08-393\n"
     ]
    },
    {
     "name": "stdout",
     "output_type": "stream",
     "text": [
      "------!"
     ]
    }
   ],
   "source": [
    "#Deploy Machine Learning Model As Endpoints\n",
    "\n",
    "predictor = estimator.deploy(initial_instance_count=1, instance_type='ml.m5.large')"
   ]
  },
  {
   "cell_type": "code",
   "execution_count": 40,
   "id": "9893a2a0",
   "metadata": {},
   "outputs": [
    {
     "name": "stdout",
     "output_type": "stream",
     "text": [
      "(152,)\n"
     ]
    }
   ],
   "source": [
    "#Prediction of the Test Data\n",
    "\n",
    "from sagemaker.serializers import CSVSerializer\n",
    "\n",
    "test_data_array = test_data.drop(['price'], axis=1).values  # Load the data into an array\n",
    "predictor.content_type = 'text/csv'  # Set the data type for an inference\n",
    "predictor.serializer = CSVSerializer()  # Set the serializer type\n",
    "predictions = predictor.predict(test_data_array).decode('utf-8')  # Predict!\n",
    "predictions_array = np.fromstring(predictions[1:], sep=',')  # Convert the prediction into an array\n",
    "print(predictions_array.shape)"
   ]
  },
  {
   "cell_type": "code",
   "execution_count": 41,
   "id": "e4daa32d",
   "metadata": {},
   "outputs": [
    {
     "data": {
      "text/plain": [
       "array([ 6.47598076, 22.48883057, 36.14986038, 12.91119766, 21.32283592,\n",
       "       25.74852371, 30.27306175, 16.20602417, 18.81606865, 20.59030151,\n",
       "       21.44624901, 33.64437485, 16.1995182 , 18.36657715, 25.24765778,\n",
       "       32.29356766, 22.22002983, 27.05437279, 17.96055031,  8.73984528,\n",
       "       22.93794632, 30.51756859, 28.62881851, 15.63776779, 36.37384415,\n",
       "       19.12374115, 16.22221756, 22.35783386, 15.70823097, 36.98379898,\n",
       "       25.18732452, 24.80260277, 42.86718369, 23.4444561 , 26.57649422,\n",
       "       29.24414062, 19.79018593, 20.4646244 , 28.91113663, 14.22143364,\n",
       "       17.7162571 , 18.9941082 , 21.12211609, 31.26916504, 29.83444405,\n",
       "       15.38547134, 25.56599998, 14.11057758, 23.51238632, 27.40533066,\n",
       "       24.2046814 , 30.76434326, 20.04627609, 39.35706329, 21.5482254 ,\n",
       "       21.27949715,  8.11036491, 20.14955139, 20.55923462, 25.60066795,\n",
       "       19.14931488, 19.81839943, 42.45933533, 25.50443268, 19.13569641,\n",
       "       19.0952282 , 37.18432617, 18.77037811, 21.39943695, 21.01411438,\n",
       "       35.25722122, 28.58372688, 16.47070694,  8.24807739, 20.99842834,\n",
       "       16.98415565, 21.36823273, 17.99035645, 34.24423599, 20.75123215,\n",
       "        9.61393356, 16.94150352, 15.74880981, 17.47999954, 30.54903221,\n",
       "       20.18695259, 18.23197937, 26.02622223, 24.59567451, 31.17882729,\n",
       "       17.18793106, 46.46675491, 34.54489136, 16.68741226, 22.07653999,\n",
       "       20.47841835, 17.05172157, 24.78772354, 22.43299103, 20.21688843,\n",
       "       28.61314583, 31.76559448, 34.36256409, 10.92722225, 27.70602226,\n",
       "       25.25690079, 21.72970772, 24.04447365, 25.72655869, 23.25457954,\n",
       "       18.23257637, 22.89378548, 23.16280556, 20.72040558, 31.09763336,\n",
       "       23.44758034, 26.03944778,  8.92760468, 24.37772751, 18.04768562,\n",
       "       33.95425797, 24.00343513, 13.30549908, 17.36142921, 15.20132542,\n",
       "       13.43958569, 44.53450394, 15.28031731, 32.46295929, 11.58815098,\n",
       "       28.76033592, 18.82947922, 11.62605572, 21.47177505, 26.04216576,\n",
       "       16.6793766 , 22.56010628, 42.81360245, 13.07855701, 22.98838806,\n",
       "       27.32538414, 21.74869537, 19.32973289, 19.71348572, 11.24757195,\n",
       "       20.74377251, 12.06954193, 17.29180908, 22.08498573, 23.89818382,\n",
       "       18.98285294, 15.71771717])"
      ]
     },
     "execution_count": 41,
     "metadata": {},
     "output_type": "execute_result"
    }
   ],
   "source": [
    "predictions_array"
   ]
  },
  {
   "cell_type": "code",
   "execution_count": 42,
   "id": "0b43fb8f",
   "metadata": {},
   "outputs": [
    {
     "name": "stdout",
     "output_type": "stream",
     "text": [
      "Mean Squared Error: 13.325073303247102\n",
      "R-squared: 0.8146244640663785\n"
     ]
    }
   ],
   "source": [
    "from sklearn.metrics import mean_squared_error, r2_score\n",
    "\n",
    "mse = mean_squared_error(test_data['price'], predictions_array)\n",
    "r2 = r2_score(test_data['price'], predictions_array)\n",
    "\n",
    "print(f\"Mean Squared Error: {mse}\")\n",
    "print(f\"R-squared: {r2}\")"
   ]
  },
  {
   "cell_type": "code",
   "execution_count": 43,
   "id": "b73dba58",
   "metadata": {},
   "outputs": [
    {
     "data": {
      "image/png": "[encoded data removed]",
      "text/plain": [
       "<Figure size 1000x600 with 1 Axes>"
      ]
     },
     "metadata": {},
     "output_type": "display_data"
    }
   ],
   "source": [
    "# Scatter plot of Actual vs Predicted prices\n",
    "plt.figure(figsize=(10, 6))\n",
    "plt.scatter(test_data['price'], predictions_array, color='blue', alpha=0.5)\n",
    "plt.plot([min(test_data['price']), max(test_data['price'])], [min(test_data['price']), max(test_data['price'])], color='red', linestyle='--')\n",
    "plt.title('Actual vs Predicted House Prices')\n",
    "plt.xlabel('Actual Prices')\n",
    "plt.ylabel('Predicted Prices')\n",
    "plt.show()"
   ]
  },
  {
   "cell_type": "code",
   "execution_count": 45,
   "id": "1caa96d5",
   "metadata": {},
   "outputs": [
    {
     "name": "stderr",
     "output_type": "stream",
     "text": [
      "WARNING:sagemaker.deprecations:The endpoint attribute has been renamed in sagemaker>=2.\n",
      "See: https://sagemaker.readthedocs.io/en/stable/v2.html for details.\n",
      "INFO:sagemaker:Deleting endpoint with name: sagemaker-xgboost-2024-08-20-05-22-08-393\n"
     ]
    },
    {
     "data": {
      "text/plain": [
       "[{'ResponseMetadata': {'RequestId': '3EQT010SE0DJ9S3V',\n",
       "   'HostId': 'MN06KFL5LlU3rff9APaHwlyV86p/KY2SelWX7nMBxrTP4x75cw09V5U11LkUyLqDsigPFaof2JGBvsN4CGyYRA==',\n",
       "   'HTTPStatusCode': 200,\n",
       "   'HTTPHeaders': {'x-amz-id-2': 'MN06KFL5LlU3rff9APaHwlyV86p/KY2SelWX7nMBxrTP4x75cw09V5U11LkUyLqDsigPFaof2JGBvsN4CGyYRA==',\n",
       "    'x-amz-request-id': '3EQT010SE0DJ9S3V',\n",
       "    'date': 'Tue, 20 Aug 2024 05:31:01 GMT',\n",
       "    'content-type': 'application/xml',\n",
       "    'transfer-encoding': 'chunked',\n",
       "    'server': 'AmazonS3',\n",
       "    'connection': 'close'},\n",
       "   'RetryAttempts': 0},\n",
       "  'Deleted': [{'Key': 'xgboost-as-a-built-in-algo/output/sagemaker-xgboost-2024-08-20-05-19-26-740/debug-output/events/000000000000/000000000000_worker_0.tfevents'},\n",
       "   {'Key': 'xgboost-as-a-built-in-algo/output/sagemaker-xgboost-2024-08-20-05-19-26-740/profiler-output/system/incremental/2024082005/1724131200.algo-1.json'},\n",
       "   {'Key': 'xgboost-as-a-built-in-algo/train/train.csv'},\n",
       "   {'Key': 'xgboost-as-a-built-in-algo/output/sagemaker-xgboost-2024-08-20-05-19-26-740/debug-output/events/000000000060/000000000060_worker_0.tfevents'},\n",
       "   {'Key': 'xgboost-as-a-built-in-algo/output/sagemaker-xgboost-2024-08-20-05-19-26-740/debug-output/index/000000000/000000000010_worker_0.json'},\n",
       "   {'Key': 'xgboost-as-a-built-in-algo/output/sagemaker-xgboost-2024-08-20-05-19-26-740/debug-output/index/000000000/000000000090_worker_0.json'},\n",
       "   {'Key': 'xgboost-as-a-built-in-algo/output/sagemaker-xgboost-2024-08-20-05-19-26-740/debug-output/index/000000000/000000000070_worker_0.json'},\n",
       "   {'Key': 'xgboost-as-a-built-in-algo/output/sagemaker-xgboost-2024-08-20-05-19-26-740/debug-output/index/000000000/000000000080_worker_0.json'},\n",
       "   {'Key': 'xgboost-as-a-built-in-algo/output/sagemaker-xgboost-2024-08-20-05-19-26-740/debug-output/events/000000000020/000000000020_worker_0.tfevents'},\n",
       "   {'Key': 'xgboost-as-a-built-in-algo/output/sagemaker-xgboost-2024-08-20-05-19-26-740/debug-output/events/000000000050/000000000050_worker_0.tfevents'},\n",
       "   {'Key': 'xgboost-as-a-built-in-algo/output/sagemaker-xgboost-2024-08-20-05-19-26-740/debug-output/index/000000000/000000000000_worker_0.json'},\n",
       "   {'Key': 'xgboost-as-a-built-in-algo/output/sagemaker-xgboost-2024-08-20-05-19-26-740/debug-output/index/000000000/000000000020_worker_0.json'},\n",
       "   {'Key': 'xgboost-as-a-built-in-algo/output/sagemaker-xgboost-2024-08-20-05-19-26-740/debug-output/events/000000000080/000000000080_worker_0.tfevents'},\n",
       "   {'Key': 'xgboost-as-a-built-in-algo/output/sagemaker-xgboost-2024-08-20-05-19-26-740/output/model.tar.gz'},\n",
       "   {'Key': 'xgboost-as-a-built-in-algo/output/sagemaker-xgboost-2024-08-20-05-19-26-740/debug-output/training_job_end.ts'},\n",
       "   {'Key': 'xgboost-as-a-built-in-algo/output/sagemaker-xgboost-2024-08-20-05-19-26-740/debug-output/events/000000000070/000000000070_worker_0.tfevents'},\n",
       "   {'Key': 'xgboost-as-a-built-in-algo/output/sagemaker-xgboost-2024-08-20-05-19-26-740/profiler-output/system/training_job_end.ts'},\n",
       "   {'Key': 'xgboost-as-a-built-in-algo/output/sagemaker-xgboost-2024-08-20-05-19-26-740/debug-output/events/000000000010/000000000010_worker_0.tfevents'},\n",
       "   {'Key': 'xgboost-as-a-built-in-algo/output/sagemaker-xgboost-2024-08-20-05-19-26-740/debug-output/index/000000000/000000000060_worker_0.json'},\n",
       "   {'Key': 'xgboost-as-a-built-in-algo/output/sagemaker-xgboost-2024-08-20-05-19-26-740/debug-output/events/000000000040/000000000040_worker_0.tfevents'},\n",
       "   {'Key': 'xgboost-as-a-built-in-algo/output/sagemaker-xgboost-2024-08-20-05-19-26-740/profiler-output/framework/training_job_end.ts'},\n",
       "   {'Key': 'xgboost-as-a-built-in-algo/output/sagemaker-xgboost-2024-08-20-05-19-26-740/debug-output/claim.smd'},\n",
       "   {'Key': 'xgboost-as-a-built-in-algo/output/sagemaker-xgboost-2024-08-20-05-19-26-740/debug-output/events/000000000030/000000000030_worker_0.tfevents'},\n",
       "   {'Key': 'xgboost-as-a-built-in-algo/output/sagemaker-xgboost-2024-08-20-05-19-26-740/debug-output/index/000000000/000000000050_worker_0.json'},\n",
       "   {'Key': 'xgboost-as-a-built-in-algo/test/test.csv'},\n",
       "   {'Key': 'xgboost-as-a-built-in-algo/output/sagemaker-xgboost-2024-08-20-05-19-26-740/debug-output/collections/000000000/worker_0_collections.json'},\n",
       "   {'Key': 'xgboost-as-a-built-in-algo/output/sagemaker-xgboost-2024-08-20-05-19-26-740/debug-output/events/000000000090/000000000090_worker_0.tfevents'},\n",
       "   {'Key': 'xgboost-as-a-built-in-algo/output/sagemaker-xgboost-2024-08-20-05-19-26-740/debug-output/index/000000000/000000000040_worker_0.json'},\n",
       "   {'Key': 'xgboost-as-a-built-in-algo/output/sagemaker-xgboost-2024-08-20-05-19-26-740/profiler-output/system/incremental/2024082005/1724131260.algo-1.json'},\n",
       "   {'Key': 'xgboost-as-a-built-in-algo/output/sagemaker-xgboost-2024-08-20-05-19-26-740/debug-output/index/000000000/000000000030_worker_0.json'}]}]"
      ]
     },
     "execution_count": 45,
     "metadata": {},
     "output_type": "execute_result"
    }
   ],
   "source": [
    "# Deleting The Endpoints\n",
    "\n",
    "sagemaker.Session().delete_endpoint(predictor.endpoint)\n",
    "bucket_to_delete = boto3.resource('s3').Bucket(bucket_name)\n",
    "bucket_to_delete.objects.all().delete()  "
   ]
  },
  {
   "cell_type": "code",
   "execution_count": null,
   "id": "ce61b8b5",
   "metadata": {},
   "outputs": [],
   "source": []
  }
 ],
 "metadata": {
  "kernelspec": {
   "display_name": "conda_python3",
   "language": "python",
   "name": "conda_python3"
  },
  "language_info": {
   "codemirror_mode": {
    "name": "ipython",
    "version": 3
   },
   "file_extension": ".py",
   "mimetype": "text/x-python",
   "name": "python",
   "nbconvert_exporter": "python",
   "pygments_lexer": "ipython3",
   "version": "3.10.14"
  }
 },
 "nbformat": 4,
 "nbformat_minor": 5
}
